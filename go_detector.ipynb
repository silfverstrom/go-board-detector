{
 "cells": [
  {
   "cell_type": "code",
   "execution_count": 2,
   "metadata": {},
   "outputs": [],
   "source": [
    "import cv2\n",
    "import numpy as np\n",
    "import matplotlib.pyplot as plt\n",
    "import PIL\n",
    "from PIL import Image"
   ]
  },
  {
   "cell_type": "code",
   "execution_count": 3,
   "metadata": {},
   "outputs": [
    {
     "data": {
      "image/png": "[encoded data removed]",
      "text/plain": [
       "<Figure size 576x576 with 1 Axes>"
      ]
     },
     "metadata": {},
     "output_type": "display_data"
    }
   ],
   "source": [
    "def drawBoard(positions):\n",
    "    # create a 8\" x 8\" board\n",
    "    fig = plt.figure(figsize=[8,8])\n",
    "    fig.patch.set_facecolor((1,1,.8))\n",
    "\n",
    "    ax = fig.add_subplot(111)\n",
    "\n",
    "    # draw the grid\n",
    "    for x in range(19):\n",
    "        ax.plot([x, x], [0,18], 'k')\n",
    "    for y in range(19):\n",
    "        ax.plot([0, 18], [y,y], 'k')\n",
    "\n",
    "    # scale the axis area to fill the whole figure\n",
    "    ax.set_position([0,0,1,1])\n",
    "\n",
    "    # get rid of axes and everything (the figure background will show through)\n",
    "    ax.set_axis_off()\n",
    "\n",
    "    # scale the plot area conveniently (the board is in 0,0..18,18)\n",
    "    ax.set_xlim(-1,19)\n",
    "    ax.set_ylim(-1,19)\n",
    "    \n",
    "    for pos in positions:\n",
    "        s1, = ax.plot(pos[0],pos[1],'o',markersize=30, markeredgecolor=(0,0,0), markerfacecolor=pos[2], markeredgewidth=2)\n",
    "\n",
    "drawBoard([])"
   ]
  },
  {
   "cell_type": "code",
   "execution_count": 4,
   "metadata": {},
   "outputs": [],
   "source": [
    "import numpy as np\n",
    "def draw_line(img, x1, y1, x2, y2):\n",
    "    cv2.line(img,(x1,y1),(x2,y2),(0,0,255),2)\n",
    "\n",
    "def draw_intersection_points(img, intersections):\n",
    "    for isec_line in intersections:\n",
    "        isec = isec_line[0]\n",
    "        x = isec[0]\n",
    "        y = isec[1]\n",
    "\n",
    "        try:\n",
    "            cv2.circle(img,(x,y),15, (0,0,255), -1)\n",
    "        except:\n",
    "            pass\n",
    "\n",
    "def find_intersection(line1, line2):\n",
    "    rho1, theta1 = line1\n",
    "    rho2, theta2 = line2\n",
    "    A = np.array([\n",
    "        [np.cos(theta1), np.sin(theta1)],\n",
    "        [np.cos(theta2), np.sin(theta2)]\n",
    "    ])\n",
    "    b = np.array([[rho1], [rho2]])\n",
    "    x0, y0 = np.linalg.solve(A, b)\n",
    "    x0, y0 = int(np.round(x0)), int(np.round(y0))\n",
    "    return [[x0, y0]]\n",
    "\n",
    "\n",
    "def segmented_intersections(lines):\n",
    "    intersections = []\n",
    "    for i, group in enumerate(lines[:-1]):\n",
    "        for next_group in lines[i+1:]:\n",
    "            for line1 in group:\n",
    "                for line2 in next_group:\n",
    "                    try:\n",
    "                        intersections.append(find_intersection(line1, line2)) \n",
    "                    except:\n",
    "                        pass\n",
    "\n",
    "    return intersections\n"
   ]
  },
  {
   "cell_type": "code",
   "execution_count": null,
   "metadata": {},
   "outputs": [],
   "source": []
  },
  {
   "cell_type": "code",
   "execution_count": 5,
   "metadata": {
    "scrolled": false
   },
   "outputs": [
    {
     "name": "stdout",
     "output_type": "stream",
     "text": [
      "White count 16 Black count 15\n"
     ]
    },
    {
     "data": {
      "text/plain": [
       "True"
      ]
     },
     "execution_count": 5,
     "metadata": {},
     "output_type": "execute_result"
    },
    {
     "data": {
      "image/png": "[encoded data removed]",
      "text/plain": [
       "<Figure size 576x576 with 1 Axes>"
      ]
     },
     "metadata": {},
     "output_type": "display_data"
    }
   ],
   "source": [
    "img = cv2.imread('data/go/board.png')\n",
    "#img = cv2.imread('data/go/random-board.JPG')\n",
    "\n",
    "\n",
    "#im = Image.open(\"data/go/IMG_3600.JPG\")\n",
    "#img = cv2.cvtColor(img, cv2.COLOR_BGR2RGB)\n",
    "img = cv2.GaussianBlur(img, (7, 7), 3)\n",
    "\n",
    "gray = cv2.cvtColor(img,cv2.COLOR_BGR2GRAY)\n",
    "\n",
    "edges = cv2.Canny(gray,50,150,apertureSize = 3)\n",
    "#edges = cv2.dilate(edges, (7,7))\n",
    "cv2.imwrite('data/go/out/canny.jpg',edges)\n",
    "    \n",
    "\n",
    "beta = 2\n",
    "alfa = 150\n",
    "lines = cv2.HoughLines(edges,1,np.pi/360*2,200)\n",
    "bottomEdge = [-1000, -1000]\n",
    "topEdge = [1000, 10000]\n",
    "leftEdge = [1000, 1000]\n",
    "rightEdge  = [-1000, -10000]\n",
    "\n",
    "for line in lines:\n",
    "    for rho, theta in line:\n",
    "        a = np.cos(theta)\n",
    "        b = np.sin(theta)\n",
    "        x0 = a*rho\n",
    "        y0 = b*rho\n",
    "\n",
    "        x1 = int(x0 + 1000*(-b))\n",
    "        y1 = int(y0 + 1000*(a))\n",
    "        x2 = int(x0 - 1000*(-b))\n",
    "        y2 = int(y0 - 1000*(a))\n",
    "        \n",
    "        # Use k-means instead?\n",
    "        if theta > np.pi * 80/180 and theta<np.pi * 100 / 180:\n",
    "            # Vertical\n",
    "            if y0 < topEdge[1]:\n",
    "                topEdge= [x0, y0, x1, y1, x2, y2, [rho, theta]]\n",
    "            if y0 > bottomEdge[1]:\n",
    "                bottomEdge = [x0, y0, x1, y1, x2, y2, [rho, theta]]\n",
    "        elif theta < np.pi * 10/180 or  theta>np.pi * 170 / 180:\n",
    "            # Horizontal\n",
    "            if x0 > rightEdge[0]:\n",
    "                rightEdge = [x0, y0, x1, y1, x2, y2, [rho, theta]]\n",
    "            if x0 < leftEdge[0]:\n",
    "                leftEdge = [x0, y0, x1, y1, x2, y2, [rho, theta]]\n",
    "\n",
    "\n",
    "intersections = segmented_intersections([bottomEdge[6:], topEdge[6:], rightEdge[6:], leftEdge[6:]])\n",
    "#top_intersections = segmented_intersections([topEdge[6:], leftEdge[6:]])\n",
    "#draw_intersection_points(img, top_intersections)\n",
    "#bottom_intersections = segmented_intersections([bottomEdge[6:], leftEdge[6:]])\n",
    "\n",
    "center_points = intersections[1:5]\n",
    "\n",
    "#draw_intersection_points(img, center_points)\n",
    "\n",
    "cv2.imwrite('data/go/out/houghlines3.jpg',img)\n",
    "\n",
    "pts1 = np.float32(center_points)\n",
    "pts2 = np.float32([[300,300],[0,300],[300,0],[0,0]])\n",
    "M = cv2.getPerspectiveTransform(pts1,pts2)\n",
    "dst = cv2.warpPerspective(img,M,(300,300))\n",
    "\n",
    "cur_y = 0\n",
    "cur_x = 0\n",
    "\n",
    "board_height = 310\n",
    "board_width = 300\n",
    "square_height = board_height / 19\n",
    "\n",
    "area = (280, 0, 15, 15)\n",
    "y = 270\n",
    "x = 0\n",
    "h = 7\n",
    "w = 8\n",
    "crop_img = dst[y:y+h, x:x+w]\n",
    "cv2.imwrite('data/go/out/crop.jpg',crop_img)\n",
    "\n",
    "\n",
    "import os\n",
    "for file in os.listdir('data/go/out'):\n",
    "    if file.endswith('.jpg'):\n",
    "        os.remove('data/go/out/{}'.format(file)) \n",
    "        \n",
    "white_count = 0\n",
    "black_count = 0\n",
    "\n",
    "\n",
    "positions = []\n",
    "for sqx in range(19):\n",
    "    cur_y = 0\n",
    "    for sqi in range(19):\n",
    "        #cv2.rectangle(dst,(cur_x,int(cur_y)),(int(cur_x+board_width),int(cur_y+square_height)),(0,255,0),3)\n",
    "        x = round(cur_x)\n",
    "        y = round(cur_y)\n",
    "        crop_img = dst[y:y+h, x:x+w]\n",
    "        crop_img = cv2.resize(crop_img,(100,100))\n",
    "        crop_img = cv2.GaussianBlur(crop_img, (5, 5), 3)\n",
    "        #crop_img = cv2.cvtColor(crop_img,cv2.COLOR_BGR2GRAY)\n",
    "        #crop_img = cv2.Canny(crop_img,50,150,apertureSize = 3)\n",
    "        im = Image.fromarray(crop_img)\n",
    "        \n",
    "        extrema = im.convert(\"L\").getextrema()\n",
    "        \n",
    "        # convert to np.float32\n",
    "        Z = np.float32(im.convert(\"L\"))\n",
    "\n",
    "        criteria = (cv2.TERM_CRITERIA_EPS + cv2.TERM_CRITERIA_MAX_ITER, 10, 1.0)\n",
    "        flags = cv2.KMEANS_RANDOM_CENTERS\n",
    "        ret,label,center = cv2.kmeans(Z, 3, None, criteria, 10, flags)\n",
    "        \n",
    "        mean = center.mean()\n",
    "        #extrema = eim.convert(\"L\").getextrema()\n",
    "        #print(extrema)\n",
    "        \n",
    "        #value = sum(extrema)/len(extrema)\n",
    "        #print(sqx, sqi, mean)\n",
    "        if mean > 170:\n",
    "            white_count = white_count + 1\n",
    "            cv2.imwrite('data/go/out/crop_{}_{}.jpg'.format(sqx, sqi),crop_img)\n",
    "            positions.append([sqx, 18-sqi,'white'])\n",
    "        if mean < 60:\n",
    "            black_count = black_count + 1\n",
    "            cv2.imwrite('data/go/out/crop_{}_{}.jpg'.format(sqx, sqi),crop_img)\n",
    "            positions.append([sqx, 18-sqi,'black'])\n",
    "\n",
    "        cur_y = cur_y + square_height\n",
    "    cur_x = cur_x + square_height\n",
    "    \n",
    "drawBoard(positions)\n",
    "print(\"White count {} Black count {}\".format(white_count, black_count))\n",
    "cv2.imwrite('data/go/out/houghlines3.jpg',dst)\n",
    "\n"
   ]
  },
  {
   "cell_type": "code",
   "execution_count": 215,
   "metadata": {},
   "outputs": [
    {
     "name": "stdout",
     "output_type": "stream",
     "text": [
      "Lines done\n",
      "intersections done\n"
     ]
    },
    {
     "data": {
      "text/plain": [
       "True"
      ]
     },
     "execution_count": 215,
     "metadata": {},
     "output_type": "execute_result"
    }
   ],
   "source": [
    "\n",
    "print(\"Lines done\")\n",
    "intersections = segmented_intersections(lines)\n",
    "print(\"intersections done\")\n",
    "\n",
    "draw_intersection_points(img, intersections)\n",
    "cv2.imwrite('data/go/out/houghlines3.jpg',img)\n"
   ]
  },
  {
   "cell_type": "code",
   "execution_count": 170,
   "metadata": {},
   "outputs": [
    {
     "data": {
      "text/plain": [
       "True"
      ]
     },
     "execution_count": 170,
     "metadata": {},
     "output_type": "execute_result"
    }
   ],
   "source": []
  },
  {
   "cell_type": "code",
   "execution_count": 167,
   "metadata": {},
   "outputs": [
    {
     "data": {
      "text/plain": [
       "True"
      ]
     },
     "execution_count": 167,
     "metadata": {},
     "output_type": "execute_result"
    }
   ],
   "source": []
  },
  {
   "cell_type": "code",
   "execution_count": null,
   "metadata": {},
   "outputs": [],
   "source": []
  }
 ],
 "metadata": {
  "kernelspec": {
   "display_name": "Python 3",
   "language": "python",
   "name": "python3"
  },
  "language_info": {
   "codemirror_mode": {
    "name": "ipython",
    "version": 3
   },
   "file_extension": ".py",
   "mimetype": "text/x-python",
   "name": "python",
   "nbconvert_exporter": "python",
   "pygments_lexer": "ipython3",
   "version": "3.6.8"
  }
 },
 "nbformat": 4,
 "nbformat_minor": 2
}
